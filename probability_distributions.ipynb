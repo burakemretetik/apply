{
  "nbformat": 4,
  "nbformat_minor": 0,
  "metadata": {
    "colab": {
      "provenance": [],
      "authorship_tag": "ABX9TyO4o6PZyUeI+BswDZqGCwQy",
      "include_colab_link": true
    },
    "kernelspec": {
      "name": "python3",
      "display_name": "Python 3"
    },
    "language_info": {
      "name": "python"
    }
  },
  "cells": [
    {
      "cell_type": "markdown",
      "metadata": {
        "id": "view-in-github",
        "colab_type": "text"
      },
      "source": [
        "<a href=\"https://colab.research.google.com/github/burakemretetik/apply/blob/main/probability_distributions.ipynb\" target=\"_parent\"><img src=\"https://colab.research.google.com/assets/colab-badge.svg\" alt=\"Open In Colab\"/></a>"
      ]
    },
    {
      "cell_type": "markdown",
      "source": [
        "# Probability Distributions\n",
        "\n",
        "1. Bernoulli\n",
        "2. Binomial\n",
        "3. Poisson\n",
        "4. Geometric\n",
        "5. Uniform\n",
        "6. Exponential\n",
        "7. Gamma\n",
        "8. Normal\n",
        "\n",
        "We will examine the moment generating function, calcualte the mean and variance using MGF.\n",
        "\n",
        "---"
      ],
      "metadata": {
        "id": "qtAOuCFZSq_q"
      }
    },
    {
      "cell_type": "markdown",
      "source": [
        "### Import Dependencies"
      ],
      "metadata": {
        "id": "VolbcMP4UYkW"
      }
    },
    {
      "cell_type": "code",
      "source": [
        "import numpy as np\n",
        "import matplotlib.pyplot as plt\n",
        "from scipy.special import gamma, beta as beta_fn"
      ],
      "metadata": {
        "id": "IPFMco0RUfpC"
      },
      "execution_count": 61,
      "outputs": []
    },
    {
      "cell_type": "markdown",
      "source": [
        "## Distributions:"
      ],
      "metadata": {
        "id": "gcgU3ArH0LM2"
      }
    },
    {
      "cell_type": "markdown",
      "source": [
        "### 1. Bernoulli Distribution"
      ],
      "metadata": {
        "id": "7qENZ-deTLCK"
      }
    },
    {
      "cell_type": "code",
      "source": [
        "# PMF: P(X=x) = p^x * (1-p)^(1-x) x ∈ {0,1}\n",
        "# Mean: E[X] = p\n",
        "# Variance: Var(X) = p(1−p)\n",
        "# MGF: Mx(t) = E[e^tX] = 1-p + pe^t"
      ],
      "metadata": {
        "id": "papa49wKqFXn"
      },
      "execution_count": null,
      "outputs": []
    },
    {
      "cell_type": "code",
      "source": [
        "# Ask the user for input\n",
        "p = float(input(\"Enter the probability of success (p): \"))\n",
        "\n",
        "# Validate p: Ensure p is a valid probability (between 0 and 1)\n",
        "if not 0 <= p <= 1:\n",
        "    raise ValueError(\"p must be between 0 and 1.\")\n",
        "\n",
        "# Define the Moment Generating Function (MGF) of the Bernoulli distribution\n",
        "def bernoulli_mgf(t, p):\n",
        "    return 1 - p + p * np.exp(t)\n",
        "\n",
        "# Define the first derivative of the MGF\n",
        "def bernoulli_mgf_first_derivative(t, p):\n",
        "    return p * np.exp(t)\n",
        "\n",
        "# Define the second derivative of the MGF\n",
        "def bernoulli_mgf_second_derivative(t, p):\n",
        "    return p * np.exp(t)\n",
        "\n",
        "# Mean = First derivative of MGF evaluated at t = 0\n",
        "mean = bernoulli_mgf_first_derivative(0, p)\n",
        "\n",
        "# Second moment = Second derivative of MGF evaluated at t = 0\n",
        "second_moment = bernoulli_mgf_second_derivative(0, p)\n",
        "\n",
        "# Variance = Second moment - (Mean)^2\n",
        "variance = second_moment - mean**2\n",
        "\n",
        "# Theoretical mean and variance for comparison\n",
        "theoretical_mean = p  # For Bernoulli distribution, E[X] = p\n",
        "theoretical_variance = p * (1 - p)  # For Bernoulli distribution, Var(X) = p(1 - p)\n",
        "\n",
        "# Print the results\n",
        "print(\"Moment Generating Function (MGF) of the Bernoulli distribution:\")\n",
        "print(\"(1 - p) + (p * e^t)\")\n",
        "\n",
        "print(f\"\\nFirst moment (E[X]) = {mean}\")\n",
        "print(f\"Second moment (E[X^2]) = {second_moment}\")\n",
        "\n",
        "print(f\"\\nMean = E[X] = {mean}\")\n",
        "print(f\"Variance = E[X^2] - E[X]^2 = {second_moment} - {mean}^2 = {variance}\")\n",
        "\n",
        "print(f\"\\nTheoretical Mean = p = {theoretical_mean}\")\n",
        "print(f\"Theoretical Variance = p * (1 - p) = {theoretical_variance}\")\n",
        "\n",
        "print(\"\\nInfo: n'th moment means the n'th derivative of MGF evaluated at t = 0\")"
      ],
      "metadata": {
        "colab": {
          "base_uri": "https://localhost:8080/"
        },
        "id": "sRkuK71LhnZB",
        "outputId": "13fde697-3787-4fc6-a060-1771a5be140f"
      },
      "execution_count": 59,
      "outputs": [
        {
          "output_type": "stream",
          "name": "stdout",
          "text": [
            "Enter the probability of success (p): 0.5\n",
            "\n",
            "First moment (E[X]) = 0.5\n",
            "Second moment (E[X^2]) = 0.5\n",
            "\n",
            "Mean = E[X] = 0.5\n",
            "Variance = E[X^2] - E[X]^2 = 0.5 - 0.5^2 = 0.25\n",
            "\n",
            "Theoretical Mean = p = 0.5\n",
            "Theoretical Variance = p * (1 - p) = 0.25\n",
            "\n",
            "Info: n'th moment means the n'th derivative of MGF evaluated at t = 0\n"
          ]
        }
      ]
    },
    {
      "cell_type": "code",
      "source": [
        "# Ask the user for input\n",
        "n = int(input(\"Enter the number of samples (n): \"))  # Number of samples\n",
        "p = float(input(\"Enter the probability of success (p): \"))  # Probability of success\n",
        "\n",
        "# Validate p: Ensure p is a valid probability (between 0 and 1)\n",
        "if not 0 <= p <= 1:\n",
        "    raise ValueError(\"p must be between 0 and 1.\")\n",
        "\n",
        "# Generate n random samples from the Bernoulli distribution\n",
        "samples = np.random.choice([0, 1], size=n, p=[1 - p, p])\n",
        "\n",
        "# Count the number of successes (1) and failures (0)\n",
        "success_count = np.sum(samples == 1)\n",
        "failure_count = np.sum(samples == 0)\n",
        "\n",
        "# Print the results\n",
        "print(\"\\nResults:\")\n",
        "print(f\"Number of successes (1): {success_count}\")\n",
        "print(f\"Number of failures (0): {failure_count}\")\n",
        "print(f\"Observed probability of success: {success_count / n:.4f}\")\n",
        "\n",
        "# Visualize the results using a histogram\n",
        "plt.hist(samples, bins=[-0.5, 0.5, 1.5], edgecolor='black', alpha=0.7)\n",
        "plt.xticks([0, 1], ['Failure (0)', 'Success (1)'])\n",
        "plt.xlabel(\"Outcome\")\n",
        "plt.ylabel(\"Frequency\")\n",
        "plt.title(f\"Bernoulli Distribution (n = {n}, p = {p})\")\n",
        "plt.show()"
      ],
      "metadata": {
        "colab": {
          "base_uri": "https://localhost:8080/",
          "height": 594
        },
        "id": "xgMxJT3JZIRz",
        "outputId": "3b83b7f6-098f-4dca-85c3-9f9a8eb330a2"
      },
      "execution_count": 60,
      "outputs": [
        {
          "output_type": "stream",
          "name": "stdout",
          "text": [
            "Enter the number of samples (n): 30\n",
            "Enter the probability of success (p): 0.5\n",
            "\n",
            "Results:\n",
            "Number of successes (1): 11\n",
            "Number of failures (0): 19\n",
            "Observed probability of success: 0.3667\n"
          ]
        },
        {
          "output_type": "display_data",
          "data": {
            "text/plain": [
              "<Figure size 640x480 with 1 Axes>"
            ],
            "image/png": "[encoded data removed]"
          },
          "metadata": {}
        }
      ]
    },
    {
      "cell_type": "markdown",
      "source": [
        "### 2. Binomial Distribution"
      ],
      "metadata": {
        "id": "pglNdYS8tv8w"
      }
    },
    {
      "cell_type": "code",
      "source": [
        "# PMF: P(X=k) = C(n,k) * p^k * (1-p)^(n-k), k = 0,1,...,n\n",
        "# Mean: E[X] = n*p\n",
        "# Variance: Var(X) = n*p*(1-p)\n",
        "# MGF: Mx(t) = (1-p + pe^t)^n"
      ],
      "metadata": {
        "id": "jjjy0x8ovLGc"
      },
      "execution_count": null,
      "outputs": []
    },
    {
      "cell_type": "code",
      "source": [
        "def binomial_mgf(t, n, p):\n",
        "    return (1 - p + p * np.exp(t))**n\n",
        "\n",
        "def binomial_mgf_first_derivative(t, n, p):\n",
        "    return n * p * np.exp(t) * (1 - p + p * np.exp(t))**(n - 1)\n",
        "\n",
        "def binomial_mgf_second_derivative(t, n, p):\n",
        "    return n * p * np.exp(t) * (1 - p + p * np.exp(t))**(n - 1) + n * (n - 1) * p**2 * np.exp(2 * t) * (1 - p + p * np.exp(t))**(n - 2)\n",
        "\n",
        "# User input for Binomial\n",
        "n_binom = int(input(\"Enter the number of trials (n) for Binomial distribution: \"))\n",
        "p_binom = float(input(\"Enter the probability of success (p) for Binomial distribution: \"))\n",
        "\n",
        "# Validate p\n",
        "if not 0 <= p_binom <= 1:\n",
        "    raise ValueError(\"p must be between 0 and 1.\")\n",
        "\n",
        "# Compute mean and variance\n",
        "mean_binom = binomial_mgf_first_derivative(0, n_binom, p_binom)\n",
        "second_moment_binom = binomial_mgf_second_derivative(0, n_binom, p_binom)\n",
        "variance_binom = second_moment_binom - mean_binom**2\n",
        "\n",
        "# Theoretical values\n",
        "theoretical_mean_binom = n_binom * p_binom\n",
        "theoretical_variance_binom = n_binom * p_binom * (1 - p_binom)\n",
        "\n",
        "# Print results\n",
        "print(\"\\nBinomial Distribution:\")\n",
        "print(f\"MGF: (1 - p + p * e^t)^{n_binom}\")\n",
        "print(f\"First moment (E[X]) = {mean_binom}\")\n",
        "print(f\"Second moment (E[X^2]) = {second_moment_binom}\")\n",
        "print(f\"Mean = E[X] = {mean_binom}\")\n",
        "print(f\"Variance = E[X^2] - E[X]^2 = {second_moment_binom} - {mean_binom}^2 = {variance_binom}\")\n",
        "print(f\"Theoretical Mean = n * p = {theoretical_mean_binom}\")\n",
        "print(f\"Theoretical Variance = n * p * (1 - p) = {theoretical_variance_binom}\")"
      ],
      "metadata": {
        "colab": {
          "base_uri": "https://localhost:8080/"
        },
        "id": "X050YuVMwsH6",
        "outputId": "0c34b931-ce0d-4c55-8e3f-a84ab3940f87"
      },
      "execution_count": 63,
      "outputs": [
        {
          "output_type": "stream",
          "name": "stdout",
          "text": [
            "Enter the number of trials (n) for Binomial distribution: 10\n",
            "Enter the probability of success (p) for Binomial distribution: 0.5\n",
            "\n",
            "Binomial Distribution:\n",
            "MGF: (1 - p + p * e^t)^10\n",
            "First moment (E[X]) = 5.0\n",
            "Second moment (E[X^2]) = 27.5\n",
            "Mean = E[X] = 5.0\n",
            "Variance = E[X^2] - E[X]^2 = 27.5 - 5.0^2 = 2.5\n",
            "Theoretical Mean = n * p = 5.0\n",
            "Theoretical Variance = n * p * (1 - p) = 2.5\n"
          ]
        }
      ]
    },
    {
      "cell_type": "markdown",
      "source": [
        "### 3. Poisson Distribution"
      ],
      "metadata": {
        "id": "pPExuKtltzd6"
      }
    },
    {
      "cell_type": "code",
      "source": [
        "# PMF: P(X=k) = (λ^k * e^(-λ)) / k!, k = 0,1,2,...\n",
        "# Mean: E[X] = λ\n",
        "# Variance: Var(X) = λ\n",
        "# MGF: Mx(t) = e^(λ(e^t - 1))"
      ],
      "metadata": {
        "id": "i2tkGF2qvXiq"
      },
      "execution_count": null,
      "outputs": []
    },
    {
      "cell_type": "code",
      "source": [
        "def poisson_mgf(t, lam):\n",
        "    return np.exp(lam * (np.exp(t) - 1))\n",
        "\n",
        "def poisson_mgf_first_derivative(t, lam):\n",
        "    return lam * np.exp(t) * np.exp(lam * (np.exp(t) - 1))\n",
        "\n",
        "def poisson_mgf_second_derivative(t, lam):\n",
        "    return lam * np.exp(t) * (1 + lam * np.exp(t)) * np.exp(lam * (np.exp(t) - 1))\n",
        "\n",
        "# User input for Poisson\n",
        "lam = float(input(\"\\nEnter the rate parameter (λ) for Poisson distribution: \"))\n",
        "\n",
        "# Compute mean and variance\n",
        "mean_poisson = poisson_mgf_first_derivative(0, lam)\n",
        "second_moment_poisson = poisson_mgf_second_derivative(0, lam)\n",
        "variance_poisson = second_moment_poisson - mean_poisson**2\n",
        "\n",
        "# Theoretical values\n",
        "theoretical_mean_poisson = lam\n",
        "theoretical_variance_poisson = lam\n",
        "\n",
        "# Print results\n",
        "print(\"\\nPoisson Distribution:\")\n",
        "print(f\"MGF: e^(λ(e^t - 1))\")\n",
        "print(f\"First moment (E[X]) = {mean_poisson}\")\n",
        "print(f\"Second moment (E[X^2]) = {second_moment_poisson}\")\n",
        "print(f\"Mean = E[X] = {mean_poisson}\")\n",
        "print(f\"Variance = E[X^2] - E[X]^2 = {second_moment_poisson} - {mean_poisson}^2 = {variance_poisson}\")\n",
        "print(f\"Theoretical Mean = λ = {theoretical_mean_poisson}\")\n",
        "print(f\"Theoretical Variance = λ = {theoretical_variance_poisson}\")"
      ],
      "metadata": {
        "colab": {
          "base_uri": "https://localhost:8080/"
        },
        "id": "LuGn4KVZyQcS",
        "outputId": "b5b9c7af-ed23-4194-e35a-5130bca4155f"
      },
      "execution_count": 66,
      "outputs": [
        {
          "output_type": "stream",
          "name": "stdout",
          "text": [
            "\n",
            "Enter the rate parameter (λ) for Poisson distribution: 3\n",
            "\n",
            "Poisson Distribution:\n",
            "MGF: e^(λ(e^t - 1))\n",
            "First moment (E[X]) = 3.0\n",
            "Second moment (E[X^2]) = 12.0\n",
            "Mean = E[X] = 3.0\n",
            "Variance = E[X^2] - E[X]^2 = 12.0 - 3.0^2 = 3.0\n",
            "Theoretical Mean = λ = 3.0\n",
            "Theoretical Variance = λ = 3.0\n"
          ]
        }
      ]
    },
    {
      "cell_type": "markdown",
      "source": [
        "### 4. Geometric Distribution"
      ],
      "metadata": {
        "id": "UiGInKuOuNIq"
      }
    },
    {
      "cell_type": "code",
      "source": [
        "# PMF: P(X=k) = (1-p)^(k-1) * p, k = 1,2,3,...\n",
        "# Mean: E[X] = 1/p\n",
        "# Variance: Var(X) = (1-p)/p^2\n",
        "# MGF: Mx(t) = (pe^t) / (1 - (1-p)e^t), t < -ln(1-p)"
      ],
      "metadata": {
        "id": "M4mDazw8vYfz"
      },
      "execution_count": null,
      "outputs": []
    },
    {
      "cell_type": "code",
      "source": [
        "def geometric_mgf(t, p):\n",
        "    return (p * np.exp(t)) / (1 - (1 - p) * np.exp(t))\n",
        "\n",
        "def geometric_mgf_first_derivative(t, p):\n",
        "    return (p * np.exp(t)) / (1 - (1 - p) * np.exp(t))**2\n",
        "\n",
        "def geometric_mgf_second_derivative(t, p):\n",
        "    return (p * np.exp(t) * (1 + (1 - p) * np.exp(t))) / (1 - (1 - p) * np.exp(t))**3\n",
        "\n",
        "# User input for Geometric\n",
        "p_geom = float(input(\"\\nEnter the probability of success (p) for Geometric distribution: \"))\n",
        "\n",
        "# Validate p\n",
        "if not 0 <= p_geom <= 1:\n",
        "    raise ValueError(\"p must be between 0 and 1.\")\n",
        "\n",
        "# Compute mean and variance\n",
        "mean_geom = geometric_mgf_first_derivative(0, p_geom)\n",
        "second_moment_geom = geometric_mgf_second_derivative(0, p_geom)\n",
        "variance_geom = second_moment_geom - mean_geom**2\n",
        "\n",
        "# Theoretical values\n",
        "theoretical_mean_geom = 1 / p_geom\n",
        "theoretical_variance_geom = (1 - p_geom) / p_geom**2\n",
        "\n",
        "# Print results\n",
        "print(\"\\nGeometric Distribution:\")\n",
        "print(f\"MGF: (p * e^t) / (1 - (1 - p) * e^t)\")\n",
        "print(f\"First moment (E[X]) = {mean_geom}\")\n",
        "print(f\"Second moment (E[X^2]) = {second_moment_geom}\")\n",
        "print(f\"Mean = E[X] = {mean_geom}\")\n",
        "print(f\"Variance = E[X^2] - E[X]^2 = {second_moment_geom} - {mean_geom}^2 = {variance_geom}\")\n",
        "print(f\"Theoretical Mean = 1 / p = {theoretical_mean_geom}\")\n",
        "print(f\"Theoretical Variance = (1 - p) / p^2 = {theoretical_variance_geom}\")"
      ],
      "metadata": {
        "colab": {
          "base_uri": "https://localhost:8080/"
        },
        "id": "tptxPnVuyZpB",
        "outputId": "e82ac1ed-dd88-4cf3-e7bd-a2b15a697616"
      },
      "execution_count": 68,
      "outputs": [
        {
          "output_type": "stream",
          "name": "stdout",
          "text": [
            "\n",
            "Enter the probability of success (p) for Geometric distribution: 0.2\n",
            "\n",
            "Geometric Distribution:\n",
            "MGF: (p * e^t) / (1 - (1 - p) * e^t)\n",
            "First moment (E[X]) = 5.000000000000003\n",
            "Second moment (E[X^2]) = 45.000000000000036\n",
            "Mean = E[X] = 5.000000000000003\n",
            "Variance = E[X^2] - E[X]^2 = 45.000000000000036 - 5.000000000000003^2 = 20.00000000000001\n",
            "Theoretical Mean = 1 / p = 5.0\n",
            "Theoretical Variance = (1 - p) / p^2 = 19.999999999999996\n"
          ]
        }
      ]
    },
    {
      "cell_type": "markdown",
      "source": [
        "### 5. Uniform Distribution"
      ],
      "metadata": {
        "id": "xSkpwKbmuXs5"
      }
    },
    {
      "cell_type": "code",
      "source": [
        "# PDF: f(x) = 1/(b-a), a ≤ x ≤ b\n",
        "# Mean: E[X] = (a+b)/2\n",
        "# Variance: Var(X) = (b-a)^2 / 12\n",
        "# MGF: Mx(t) = (e^(tb) - e^(ta)) / (t(b-a)), t ≠ 0"
      ],
      "metadata": {
        "id": "JC9nuXbbvZ-Y"
      },
      "execution_count": null,
      "outputs": []
    },
    {
      "cell_type": "code",
      "source": [
        "def uniform_mgf(t, a, b):\n",
        "    if t == 0:\n",
        "        return 1\n",
        "    return (np.exp(t * b) - np.exp(t * a)) / (t * (b - a))\n",
        "\n",
        "def uniform_mgf_first_derivative(t, a, b):\n",
        "    if t == 0:\n",
        "        return (a + b) / 2\n",
        "    return (b * np.exp(t * b) - a * np.exp(t * a)) / (t * (b - a)) - (np.exp(t * b) - np.exp(t * a)) / (t**2 * (b - a))\n",
        "\n",
        "def uniform_mgf_second_derivative(t, a, b):\n",
        "    if t == 0:\n",
        "        return (a**2 + a * b + b**2) / 3\n",
        "    return (b**2 * np.exp(t * b) - a**2 * np.exp(t * a)) / (t * (b - a)) - 2 * (b * np.exp(t * b) - a * np.exp(t * a)) / (t**2 * (b - a)) + 2 * (np.exp(t * b) - np.exp(t * a)) / (t**3 * (b - a))\n",
        "\n",
        "# User input for Uniform\n",
        "a = float(input(\"\\nEnter the lower bound (a) for Uniform distribution: \"))\n",
        "b = float(input(\"Enter the upper bound (b) for Uniform distribution: \"))\n",
        "\n",
        "# Validate a and b\n",
        "if a >= b:\n",
        "    raise ValueError(\"a must be less than b.\")\n",
        "\n",
        "# Compute mean and variance\n",
        "mean_uniform = uniform_mgf_first_derivative(0, a, b)\n",
        "second_moment_uniform = uniform_mgf_second_derivative(0, a, b)\n",
        "variance_uniform = second_moment_uniform - mean_uniform**2\n",
        "\n",
        "# Theoretical values\n",
        "theoretical_mean_uniform = (a + b) / 2\n",
        "theoretical_variance_uniform = (b - a)**2 / 12\n",
        "\n",
        "# Print results\n",
        "print(\"\\nUniform Distribution:\")\n",
        "print(f\"MGF: (e^(t*b) - e^(t*a)) / (t*(b - a))\")\n",
        "print(f\"First moment (E[X]) = {mean_uniform}\")\n",
        "print(f\"Second moment (E[X^2]) = {second_moment_uniform}\")\n",
        "print(f\"Mean = E[X] = {mean_uniform}\")\n",
        "print(f\"Variance = E[X^2] - E[X]^2 = {second_moment_uniform} - {mean_uniform}^2 = {variance_uniform}\")\n",
        "print(f\"Theoretical Mean = (a + b) / 2 = {theoretical_mean_uniform}\")\n",
        "print(f\"Theoretical Variance = (b - a)^2 / 12 = {theoretical_variance_uniform}\")"
      ],
      "metadata": {
        "colab": {
          "base_uri": "https://localhost:8080/"
        },
        "id": "Aws198Tkykl4",
        "outputId": "cbdcd99d-c6a9-4274-8770-ed010f7eb1d5"
      },
      "execution_count": 69,
      "outputs": [
        {
          "output_type": "stream",
          "name": "stdout",
          "text": [
            "\n",
            "Enter the lower bound (a) for Uniform distribution: 4\n",
            "Enter the upper bound (b) for Uniform distribution: 15\n",
            "\n",
            "Uniform Distribution:\n",
            "MGF: (e^(t*b) - e^(t*a)) / (t*(b - a))\n",
            "First moment (E[X]) = 9.5\n",
            "Second moment (E[X^2]) = 100.33333333333333\n",
            "Mean = E[X] = 9.5\n",
            "Variance = E[X^2] - E[X]^2 = 100.33333333333333 - 9.5^2 = 10.083333333333329\n",
            "Theoretical Mean = (a + b) / 2 = 9.5\n",
            "Theoretical Variance = (b - a)^2 / 12 = 10.083333333333334\n"
          ]
        }
      ]
    },
    {
      "cell_type": "markdown",
      "source": [
        "### 6. Exponential Distribution"
      ],
      "metadata": {
        "id": "rQ31LhZrud6c"
      }
    },
    {
      "cell_type": "code",
      "source": [
        "# PDF: f(x) = λe^(-λx), x ≥ 0\n",
        "# Mean: E[X] = 1/λ\n",
        "# Variance: Var(X) = 1/λ^2\n",
        "# MGF: Mx(t) = λ / (λ - t), t < λ"
      ],
      "metadata": {
        "id": "V8P4VDkhvcwv"
      },
      "execution_count": null,
      "outputs": []
    },
    {
      "cell_type": "code",
      "source": [
        "def exponential_mgf(t, lam):\n",
        "    return lam / (lam - t)\n",
        "\n",
        "def exponential_mgf_first_derivative(t, lam):\n",
        "    return lam / (lam - t)**2\n",
        "\n",
        "def exponential_mgf_second_derivative(t, lam):\n",
        "    return 2 * lam / (lam - t)**3\n",
        "\n",
        "# User input for Exponential\n",
        "lam = float(input(\"\\nEnter the rate parameter (λ) for Exponential distribution: \"))\n",
        "\n",
        "# Validate lambda\n",
        "if lam <= 0:\n",
        "    raise ValueError(\"λ must be greater than 0.\")\n",
        "\n",
        "# Compute mean and variance\n",
        "mean_exponential = exponential_mgf_first_derivative(0, lam)\n",
        "second_moment_exponential = exponential_mgf_second_derivative(0, lam)\n",
        "variance_exponential = second_moment_exponential - mean_exponential**2\n",
        "\n",
        "# Theoretical values\n",
        "theoretical_mean_exponential = 1 / lam\n",
        "theoretical_variance_exponential = 1 / lam**2\n",
        "\n",
        "# Print results\n",
        "print(\"\\nExponential Distribution:\")\n",
        "print(f\"MGF: λ / (λ - t)\")\n",
        "print(f\"First moment (E[X]) = {mean_exponential}\")\n",
        "print(f\"Second moment (E[X^2]) = {second_moment_exponential}\")\n",
        "print(f\"Mean = E[X] = {mean_exponential}\")\n",
        "print(f\"Variance = E[X^2] - E[X]^2 = {second_moment_exponential} - {mean_exponential}^2 = {variance_exponential}\")\n",
        "print(f\"Theoretical Mean = 1 / λ = {theoretical_mean_exponential}\")\n",
        "print(f\"Theoretical Variance = 1 / λ^2 = {theoretical_variance_exponential}\")"
      ],
      "metadata": {
        "colab": {
          "base_uri": "https://localhost:8080/"
        },
        "id": "L3XaUnV0yrw4",
        "outputId": "025b0f68-9559-44fa-8963-7ab154c361ac"
      },
      "execution_count": 70,
      "outputs": [
        {
          "output_type": "stream",
          "name": "stdout",
          "text": [
            "\n",
            "Enter the rate parameter (λ) for Exponential distribution: 5\n",
            "\n",
            "Exponential Distribution:\n",
            "MGF: λ / (λ - t)\n",
            "First moment (E[X]) = 0.2\n",
            "Second moment (E[X^2]) = 0.08\n",
            "Mean = E[X] = 0.2\n",
            "Variance = E[X^2] - E[X]^2 = 0.08 - 0.2^2 = 0.039999999999999994\n",
            "Theoretical Mean = 1 / λ = 0.2\n",
            "Theoretical Variance = 1 / λ^2 = 0.04\n"
          ]
        }
      ]
    },
    {
      "cell_type": "markdown",
      "source": [
        "### 7. Gama Distribution"
      ],
      "metadata": {
        "id": "TReuoqY6uh70"
      }
    },
    {
      "cell_type": "code",
      "source": [
        "# PDF: f(x) = (β^α / Γ(α)) * x^(α-1) * e^(-βx), x ≥ 0\n",
        "# Mean: E[X] = α / β\n",
        "# Variance: Var(X) = α / β^2\n",
        "# MGF: Mx(t) = (β / (β - t))^α, t < β"
      ],
      "metadata": {
        "id": "Yvj9cDZVvg4y"
      },
      "execution_count": null,
      "outputs": []
    },
    {
      "cell_type": "code",
      "source": [
        "def gamma_mgf(t, alpha, beta):\n",
        "    return (beta / (beta - t))**alpha\n",
        "\n",
        "def gamma_mgf_first_derivative(t, alpha, beta):\n",
        "    return alpha * beta**alpha / (beta - t)**(alpha + 1)\n",
        "\n",
        "def gamma_mgf_second_derivative(t, alpha, beta):\n",
        "    return alpha * (alpha + 1) * beta**alpha / (beta - t)**(alpha + 2)\n",
        "\n",
        "# User input for Gamma\n",
        "alpha_gamma = float(input(\"\\nEnter the shape parameter (α) for Gamma distribution: \"))\n",
        "beta_gamma = float(input(\"Enter the rate parameter (β) for Gamma distribution: \"))\n",
        "\n",
        "# Validate alpha and beta\n",
        "if alpha_gamma <= 0 or beta_gamma <= 0:\n",
        "    raise ValueError(\"α and β must be greater than 0.\")\n",
        "\n",
        "# Compute mean and variance\n",
        "mean_gamma = gamma_mgf_first_derivative(0, alpha_gamma, beta_gamma)\n",
        "second_moment_gamma = gamma_mgf_second_derivative(0, alpha_gamma, beta_gamma)\n",
        "variance_gamma = second_moment_gamma - mean_gamma**2\n",
        "\n",
        "# Theoretical values\n",
        "theoretical_mean_gamma = alpha_gamma / beta_gamma\n",
        "theoretical_variance_gamma = alpha_gamma / beta_gamma**2\n",
        "\n",
        "# Print results\n",
        "print(\"\\nGamma Distribution:\")\n",
        "print(f\"MGF: (β / (β - t))^{alpha_gamma}\")\n",
        "print(f\"First moment (E[X]) = {mean_gamma}\")\n",
        "print(f\"Second moment (E[X^2]) = {second_moment_gamma}\")\n",
        "print(f\"Mean = E[X] = {mean_gamma}\")\n",
        "print(f\"Variance = E[X^2] - E[X]^2 = {second_moment_gamma} - {mean_gamma}^2 = {variance_gamma}\")\n",
        "print(f\"Theoretical Mean = α / β = {theoretical_mean_gamma}\")\n",
        "print(f\"Theoretical Variance = α / β^2 = {theoretical_variance_gamma}\")"
      ],
      "metadata": {
        "colab": {
          "base_uri": "https://localhost:8080/"
        },
        "id": "9phOkJnDyu3w",
        "outputId": "60b2f33f-e94b-4f2a-a753-6ea538771e72"
      },
      "execution_count": 71,
      "outputs": [
        {
          "output_type": "stream",
          "name": "stdout",
          "text": [
            "\n",
            "Enter the shape parameter (α) for Gamma distribution: 3\n",
            "Enter the rate parameter (β) for Gamma distribution: 2\n",
            "\n",
            "Gamma Distribution:\n",
            "MGF: (β / (β - t))^3.0\n",
            "First moment (E[X]) = 1.5\n",
            "Second moment (E[X^2]) = 3.0\n",
            "Mean = E[X] = 1.5\n",
            "Variance = E[X^2] - E[X]^2 = 3.0 - 1.5^2 = 0.75\n",
            "Theoretical Mean = α / β = 1.5\n",
            "Theoretical Variance = α / β^2 = 0.75\n"
          ]
        }
      ]
    },
    {
      "cell_type": "markdown",
      "source": [
        "### 8. Normal Distribution"
      ],
      "metadata": {
        "id": "moZq5TScub16"
      }
    },
    {
      "cell_type": "code",
      "source": [
        "# PDF: f(x) = (1/√(2πσ^2)) * e^(-(x-μ)^2 / (2σ^2))\n",
        "# Mean: E[X] = μ\n",
        "# Variance: Var(X) = σ^2\n",
        "# MGF: Mx(t) = e^(μt + (1/2)σ^2t^2)"
      ],
      "metadata": {
        "id": "km7lZ7-1vlcH"
      },
      "execution_count": null,
      "outputs": []
    },
    {
      "cell_type": "code",
      "source": [
        "def normal_mgf(t, mu, sigma):\n",
        "    return np.exp(mu * t + 0.5 * sigma**2 * t**2)\n",
        "\n",
        "def normal_mgf_first_derivative(t, mu, sigma):\n",
        "    return (mu + sigma**2 * t) * np.exp(mu * t + 0.5 * sigma**2 * t**2)\n",
        "\n",
        "def normal_mgf_second_derivative(t, mu, sigma):\n",
        "    return (sigma**2 + (mu + sigma**2 * t)**2) * np.exp(mu * t + 0.5 * sigma**2 * t**2)\n",
        "\n",
        "# User input for Normal\n",
        "mu = float(input(\"\\nEnter the mean (μ) for Normal distribution: \"))\n",
        "sigma = float(input(\"Enter the standard deviation (σ) for Normal distribution: \"))\n",
        "\n",
        "# Validate sigma\n",
        "if sigma <= 0:\n",
        "    raise ValueError(\"σ must be greater than 0.\")\n",
        "\n",
        "# Compute mean and variance\n",
        "mean_normal = normal_mgf_first_derivative(0, mu, sigma)\n",
        "second_moment_normal = normal_mgf_second_derivative(0, mu, sigma)\n",
        "variance_normal = second_moment_normal - mean_normal**2\n",
        "\n",
        "# Theoretical values\n",
        "theoretical_mean_normal = mu\n",
        "theoretical_variance_normal = sigma**2\n",
        "\n",
        "# Print results\n",
        "print(\"\\nNormal Distribution:\")\n",
        "print(f\"MGF: e^(μt + 0.5σ^2t^2)\")\n",
        "print(f\"First moment (E[X]) = {mean_normal}\")\n",
        "print(f\"Second moment (E[X^2]) = {second_moment_normal}\")\n",
        "print(f\"Mean = E[X] = {mean_normal}\")\n",
        "print(f\"Variance = E[X^2] - E[X]^2 = {second_moment_normal} - {mean_normal}^2 = {variance_normal}\")\n",
        "print(f\"Theoretical Mean = μ = {theoretical_mean_normal}\")\n",
        "print(f\"Theoretical Variance = σ^2 = {theoretical_variance_normal}\")"
      ],
      "metadata": {
        "colab": {
          "base_uri": "https://localhost:8080/"
        },
        "id": "TBdWyCqXy6Uh",
        "outputId": "728ffd1a-042f-4904-f174-402995a67b20"
      },
      "execution_count": 72,
      "outputs": [
        {
          "output_type": "stream",
          "name": "stdout",
          "text": [
            "\n",
            "Enter the mean (μ) for Normal distribution: 20\n",
            "Enter the standard deviation (σ) for Normal distribution: 2\n",
            "\n",
            "Normal Distribution:\n",
            "MGF: e^(μt + 0.5σ^2t^2)\n",
            "First moment (E[X]) = 20.0\n",
            "Second moment (E[X^2]) = 404.0\n",
            "Mean = E[X] = 20.0\n",
            "Variance = E[X^2] - E[X]^2 = 404.0 - 20.0^2 = 4.0\n",
            "Theoretical Mean = μ = 20.0\n",
            "Theoretical Variance = σ^2 = 4.0\n"
          ]
        }
      ]
    },
    {
      "cell_type": "markdown",
      "source": [
        "## Visualizations"
      ],
      "metadata": {
        "id": "7QdbG5VK0GaB"
      }
    },
    {
      "cell_type": "markdown",
      "source": [
        "### Theoretical PDF/PMF and CDF"
      ],
      "metadata": {
        "id": "YY9eoEqV4knW"
      }
    },
    {
      "cell_type": "code",
      "source": [
        "import numpy as np\n",
        "import matplotlib.pyplot as plt\n",
        "from scipy.stats import bernoulli, binom, poisson, geom, uniform, expon, gamma, norm\n",
        "\n",
        "def visualize_pdf_pmf_cdf(distribution, params):\n",
        "    \"\"\"\n",
        "    Visualizes the PDF/PMF and CDF of the selected distribution.\n",
        "\n",
        "    Parameters:\n",
        "    distribution (str): Name of the distribution.\n",
        "    params (dict): Parameters of the distribution.\n",
        "    \"\"\"\n",
        "    plt.figure(figsize=(12, 5))\n",
        "\n",
        "    # Plot PDF/PMF\n",
        "    plt.subplot(1, 2, 1)  # First subplot for PDF/PMF\n",
        "    if distribution == \"Bernoulli\":\n",
        "        x = np.arange(2)  # Possible outcomes: 0 and 1\n",
        "        pmf = bernoulli.pmf(x, params[\"p\"])\n",
        "        plt.bar(x, pmf, color='blue', alpha=0.7, label=\"PMF\")\n",
        "        plt.xticks(x, ['Failure (0)', 'Success (1)'])\n",
        "        plt.xlabel(\"Outcome\")\n",
        "        plt.ylabel(\"Probability\")\n",
        "        plt.title(f\"Bernoulli PMF (p = {params['p']})\")\n",
        "\n",
        "    elif distribution == \"Binomial\":\n",
        "        x = np.arange(params[\"n\"] + 1)  # Possible outcomes: 0 to n\n",
        "        pmf = binom.pmf(x, params[\"n\"], params[\"p\"])\n",
        "        plt.plot(x, pmf, 'bo-', label=\"PMF\")\n",
        "        plt.xlabel(\"Number of Successes\")\n",
        "        plt.ylabel(\"Probability\")\n",
        "        plt.title(f\"Binomial PMF (n = {params['n']}, p = {params['p']})\")\n",
        "\n",
        "    elif distribution == \"Poisson\":\n",
        "        x = np.arange(0, 20)  # Adjust range as needed\n",
        "        pmf = poisson.pmf(x, params[\"lam\"])\n",
        "        plt.plot(x, pmf, 'bo-', label=\"PMF\")\n",
        "        plt.xlabel(\"Number of Events\")\n",
        "        plt.ylabel(\"Probability\")\n",
        "        plt.title(f\"Poisson PMF (λ = {params['lam']})\")\n",
        "\n",
        "    elif distribution == \"Geometric\":\n",
        "        x = np.arange(1, 20)  # Adjust range as needed\n",
        "        pmf = geom.pmf(x, params[\"p\"])\n",
        "        plt.plot(x, pmf, 'bo-', label=\"PMF\")\n",
        "        plt.xlabel(\"Number of Trials Until Success\")\n",
        "        plt.ylabel(\"Probability\")\n",
        "        plt.title(f\"Geometric PMF (p = {params['p']})\")\n",
        "\n",
        "    elif distribution == \"Uniform\":\n",
        "        x = np.linspace(params[\"a\"], params[\"b\"], 1000)\n",
        "        pdf = uniform.pdf(x, params[\"a\"], params[\"b\"] - params[\"a\"])\n",
        "        plt.plot(x, pdf, 'b-', label=\"PDF\")\n",
        "        plt.xlabel(\"Value\")\n",
        "        plt.ylabel(\"Density\")\n",
        "        plt.title(f\"Uniform PDF (a = {params['a']}, b = {params['b']})\")\n",
        "\n",
        "    elif distribution == \"Exponential\":\n",
        "        x = np.linspace(0, 10 / params[\"lam\"], 1000)  # Adjust range as needed\n",
        "        pdf = expon.pdf(x, scale=1 / params[\"lam\"])\n",
        "        plt.plot(x, pdf, 'b-', label=\"PDF\")\n",
        "        plt.xlabel(\"Value\")\n",
        "        plt.ylabel(\"Density\")\n",
        "        plt.title(f\"Exponential PDF (λ = {params['lam']})\")\n",
        "\n",
        "    elif distribution == \"Gamma\":\n",
        "        x = np.linspace(0, 20, 1000)  # Adjust range as needed\n",
        "        pdf = gamma.pdf(x, params[\"alpha\"], scale=1 / params[\"beta\"])\n",
        "        plt.plot(x, pdf, 'b-', label=\"PDF\")\n",
        "        plt.xlabel(\"Value\")\n",
        "        plt.ylabel(\"Density\")\n",
        "        plt.title(f\"Gamma PDF (α = {params['alpha']}, β = {params['beta']})\")\n",
        "\n",
        "    elif distribution == \"Normal\":\n",
        "        x = np.linspace(params[\"mu\"] - 4 * params[\"sigma\"], params[\"mu\"] + 4 * params[\"sigma\"], 1000)\n",
        "        pdf = norm.pdf(x, params[\"mu\"], params[\"sigma\"])\n",
        "        plt.plot(x, pdf, 'b-', label=\"PDF\")\n",
        "        plt.xlabel(\"Value\")\n",
        "        plt.ylabel(\"Density\")\n",
        "        plt.title(f\"Normal PDF (μ = {params['mu']}, σ = {params['sigma']})\")\n",
        "\n",
        "    else:\n",
        "        raise ValueError(\"Invalid distribution selected.\")\n",
        "\n",
        "    plt.legend()\n",
        "\n",
        "    # Plot CDF\n",
        "    plt.subplot(1, 2, 2)  # Second subplot for CDF\n",
        "    if distribution == \"Bernoulli\":\n",
        "        x = np.arange(2)  # Possible outcomes: 0 and 1\n",
        "        cdf = bernoulli.cdf(x, params[\"p\"])\n",
        "        plt.step(x, cdf, 'r-', where='post', label=\"CDF\")\n",
        "        plt.xticks(x, ['Failure (0)', 'Success (1)'])\n",
        "        plt.xlabel(\"Outcome\")\n",
        "        plt.ylabel(\"Cumulative Probability\")\n",
        "        plt.title(f\"Bernoulli CDF (p = {params['p']})\")\n",
        "\n",
        "    elif distribution == \"Binomial\":\n",
        "        x = np.arange(params[\"n\"] + 1)  # Possible outcomes: 0 to n\n",
        "        cdf = binom.cdf(x, params[\"n\"], params[\"p\"])\n",
        "        plt.step(x, cdf, 'ro-', where='post', label=\"CDF\")\n",
        "        plt.xlabel(\"Number of Successes\")\n",
        "        plt.ylabel(\"Cumulative Probability\")\n",
        "        plt.title(f\"Binomial CDF (n = {params['n']}, p = {params['p']})\")\n",
        "\n",
        "    elif distribution == \"Poisson\":\n",
        "        x = np.arange(0, 20)  # Adjust range as needed\n",
        "        cdf = poisson.cdf(x, params[\"lam\"])\n",
        "        plt.step(x, cdf, 'ro-', where='post', label=\"CDF\")\n",
        "        plt.xlabel(\"Number of Events\")\n",
        "        plt.ylabel(\"Cumulative Probability\")\n",
        "        plt.title(f\"Poisson CDF (λ = {params['lam']})\")\n",
        "\n",
        "    elif distribution == \"Geometric\":\n",
        "        x = np.arange(1, 20)  # Adjust range as needed\n",
        "        cdf = geom.cdf(x, params[\"p\"])\n",
        "        plt.step(x, cdf, 'ro-', where='post', label=\"CDF\")\n",
        "        plt.xlabel(\"Number of Trials Until Success\")\n",
        "        plt.ylabel(\"Cumulative Probability\")\n",
        "        plt.title(f\"Geometric CDF (p = {params['p']})\")\n",
        "\n",
        "    elif distribution == \"Uniform\":\n",
        "        x = np.linspace(params[\"a\"], params[\"b\"], 1000)\n",
        "        cdf = uniform.cdf(x, params[\"a\"], params[\"b\"] - params[\"a\"])\n",
        "        plt.plot(x, cdf, 'r-', label=\"CDF\")\n",
        "        plt.xlabel(\"Value\")\n",
        "        plt.ylabel(\"Cumulative Probability\")\n",
        "        plt.title(f\"Uniform CDF (a = {params['a']}, b = {params['b']})\")\n",
        "\n",
        "    elif distribution == \"Exponential\":\n",
        "        x = np.linspace(0, 10 / params[\"lam\"], 1000)  # Adjust range as needed\n",
        "        cdf = expon.cdf(x, scale=1 / params[\"lam\"])\n",
        "        plt.plot(x, cdf, 'r-', label=\"CDF\")\n",
        "        plt.xlabel(\"Value\")\n",
        "        plt.ylabel(\"Cumulative Probability\")\n",
        "        plt.title(f\"Exponential CDF (λ = {params['lam']})\")\n",
        "\n",
        "    elif distribution == \"Gamma\":\n",
        "        x = np.linspace(0, 20, 1000)  # Adjust range as needed\n",
        "        cdf = gamma.cdf(x, params[\"alpha\"], scale=1 / params[\"beta\"])\n",
        "        plt.plot(x, cdf, 'r-', label=\"CDF\")\n",
        "        plt.xlabel(\"Value\")\n",
        "        plt.ylabel(\"Cumulative Probability\")\n",
        "        plt.title(f\"Gamma CDF (α = {params['alpha']}, β = {params['beta']})\")\n",
        "\n",
        "    elif distribution == \"Normal\":\n",
        "        x = np.linspace(params[\"mu\"] - 4 * params[\"sigma\"], params[\"mu\"] + 4 * params[\"sigma\"], 1000)\n",
        "        cdf = norm.cdf(x, params[\"mu\"], params[\"sigma\"])\n",
        "        plt.plot(x, cdf, 'r-', label=\"CDF\")\n",
        "        plt.xlabel(\"Value\")\n",
        "        plt.ylabel(\"Cumulative Probability\")\n",
        "        plt.title(f\"Normal CDF (μ = {params['mu']}, σ = {params['sigma']})\")\n",
        "\n",
        "    plt.legend()\n",
        "    plt.tight_layout()\n",
        "    plt.show()\n",
        "\n",
        "# Main program\n",
        "if __name__ == \"__main__\":\n",
        "    # List of available distributions\n",
        "    distributions = [\n",
        "        \"Bernoulli\", \"Binomial\", \"Poisson\", \"Geometric\",\n",
        "        \"Uniform\", \"Exponential\", \"Gamma\", \"Normal\"\n",
        "    ]\n",
        "\n",
        "    # Ask the user to select a distribution\n",
        "    print(\"Available distributions:\")\n",
        "    for i, dist in enumerate(distributions, 1):\n",
        "        print(f\"{i}. {dist}\")\n",
        "    choice = int(input(\"Select a distribution (enter the corresponding number): \")) - 1\n",
        "\n",
        "    if choice < 0 or choice >= len(distributions):\n",
        "        raise ValueError(\"Invalid selection.\")\n",
        "\n",
        "    selected_distribution = distributions[choice]\n",
        "\n",
        "    # Ask for parameters based on the selected distribution\n",
        "    params = {}\n",
        "    if selected_distribution == \"Bernoulli\":\n",
        "        params[\"p\"] = float(input(\"Enter the probability of success (p): \"))\n",
        "        if not 0 <= params[\"p\"] <= 1:\n",
        "            raise ValueError(\"p must be between 0 and 1.\")\n",
        "\n",
        "    elif selected_distribution == \"Binomial\":\n",
        "        params[\"n\"] = int(input(\"Enter the number of trials (n): \"))\n",
        "        params[\"p\"] = float(input(\"Enter the probability of success (p): \"))\n",
        "        if not 0 <= params[\"p\"] <= 1:\n",
        "            raise ValueError(\"p must be between 0 and 1.\")\n",
        "\n",
        "    elif selected_distribution == \"Poisson\":\n",
        "        params[\"lam\"] = float(input(\"Enter the rate parameter (λ): \"))\n",
        "        if params[\"lam\"] <= 0:\n",
        "            raise ValueError(\"λ must be greater than 0.\")\n",
        "\n",
        "    elif selected_distribution == \"Geometric\":\n",
        "        params[\"p\"] = float(input(\"Enter the probability of success (p): \"))\n",
        "        if not 0 <= params[\"p\"] <= 1:\n",
        "            raise ValueError(\"p must be between 0 and 1.\")\n",
        "\n",
        "    elif selected_distribution == \"Uniform\":\n",
        "        params[\"a\"] = float(input(\"Enter the lower bound (a): \"))\n",
        "        params[\"b\"] = float(input(\"Enter the upper bound (b): \"))\n",
        "        if params[\"a\"] >= params[\"b\"]:\n",
        "            raise ValueError(\"a must be less than b.\")\n",
        "\n",
        "    elif selected_distribution == \"Exponential\":\n",
        "        params[\"lam\"] = float(input(\"Enter the rate parameter (λ): \"))\n",
        "        if params[\"lam\"] <= 0:\n",
        "            raise ValueError(\"λ must be greater than 0.\")\n",
        "\n",
        "    elif selected_distribution == \"Gamma\":\n",
        "        params[\"alpha\"] = float(input(\"Enter the shape parameter (α): \"))\n",
        "        params[\"beta\"] = float(input(\"Enter the rate parameter (β): \"))\n",
        "        if params[\"alpha\"] <= 0 or params[\"beta\"] <= 0:\n",
        "            raise ValueError(\"α and β must be greater than 0.\")\n",
        "\n",
        "    elif selected_distribution == \"Normal\":\n",
        "        params[\"mu\"] = float(input(\"Enter the mean (μ): \"))\n",
        "        params[\"sigma\"] = float(input(\"Enter the standard deviation (σ): \"))\n",
        "        if params[\"sigma\"] <= 0:\n",
        "            raise ValueError(\"σ must be greater than 0.\")\n",
        "\n",
        "    # Visualize the PDF/PMF and CDF\n",
        "    visualize_pdf_pmf_cdf(selected_distribution, params)"
      ],
      "metadata": {
        "colab": {
          "base_uri": "https://localhost:8080/",
          "height": 715
        },
        "id": "x6C0Edwh3pL-",
        "outputId": "6794b3b4-66a3-4a15-cdcc-edd21076d6b8"
      },
      "execution_count": 83,
      "outputs": [
        {
          "name": "stdout",
          "output_type": "stream",
          "text": [
            "Available distributions:\n",
            "1. Bernoulli\n",
            "2. Binomial\n",
            "3. Poisson\n",
            "4. Geometric\n",
            "5. Uniform\n",
            "6. Exponential\n",
            "7. Gamma\n",
            "8. Normal\n",
            "Select a distribution (enter the corresponding number): 7\n",
            "Enter the shape parameter (α): 5\n",
            "Enter the rate parameter (β): 3\n"
          ]
        },
        {
          "output_type": "display_data",
          "data": {
            "text/plain": [
              "<Figure size 1200x500 with 2 Axes>"
            ],
            "image/png": "[encoded data removed]"
          },
          "metadata": {}
        }
      ]
    },
    {
      "cell_type": "markdown",
      "source": [
        "### Empirical Distribution (Histogram of Samples)"
      ],
      "metadata": {
        "id": "K58VYehp4fXm"
      }
    },
    {
      "cell_type": "code",
      "source": [
        "import numpy as np\n",
        "import matplotlib.pyplot as plt\n",
        "\n",
        "# Function to visualize distributions\n",
        "def visualize_distribution(distribution, params, sample_size):\n",
        "    \"\"\"\n",
        "    Visualizes the selected distribution using a histogram or bar plot.\n",
        "\n",
        "    Parameters:\n",
        "    distribution (str): Name of the distribution.\n",
        "    params (dict): Parameters of the distribution.\n",
        "    sample_size (int): Number of samples to generate.\n",
        "    \"\"\"\n",
        "    # Generate samples\n",
        "    if distribution == \"Bernoulli\":\n",
        "        samples = np.random.binomial(1, params[\"p\"], sample_size)\n",
        "        plt.hist(samples, bins=[-0.5, 0.5, 1.5], edgecolor='black', alpha=0.7)\n",
        "        plt.xticks([0, 1], ['Failure (0)', 'Success (1)'])\n",
        "        plt.xlabel(\"Outcome\")\n",
        "        plt.ylabel(\"Frequency\")\n",
        "        plt.title(f\"Bernoulli Distribution (p = {params['p']}, n = {sample_size})\")\n",
        "\n",
        "    elif distribution == \"Binomial\":\n",
        "        samples = np.random.binomial(params[\"n\"], params[\"p\"], sample_size)\n",
        "        plt.hist(samples, bins=range(params[\"n\"] + 2), edgecolor='black', alpha=0.7)\n",
        "        plt.xlabel(\"Number of Successes\")\n",
        "        plt.ylabel(\"Frequency\")\n",
        "        plt.title(f\"Binomial Distribution (n = {params['n']}, p = {params['p']}, samples = {sample_size})\")\n",
        "\n",
        "    elif distribution == \"Poisson\":\n",
        "        samples = np.random.poisson(params[\"lam\"], sample_size)\n",
        "        plt.hist(samples, bins=range(0, max(samples) + 2), edgecolor='black', alpha=0.7)\n",
        "        plt.xlabel(\"Number of Events\")\n",
        "        plt.ylabel(\"Frequency\")\n",
        "        plt.title(f\"Poisson Distribution (λ = {params['lam']}, samples = {sample_size})\")\n",
        "\n",
        "    elif distribution == \"Geometric\":\n",
        "        samples = np.random.geometric(params[\"p\"], sample_size)\n",
        "        plt.hist(samples, bins=range(1, max(samples) + 2), edgecolor='black', alpha=0.7)\n",
        "        plt.xlabel(\"Number of Trials Until Success\")\n",
        "        plt.ylabel(\"Frequency\")\n",
        "        plt.title(f\"Geometric Distribution (p = {params['p']}, samples = {sample_size})\")\n",
        "\n",
        "    elif distribution == \"Uniform\":\n",
        "        samples = np.random.uniform(params[\"a\"], params[\"b\"], sample_size)\n",
        "        plt.hist(samples, bins=30, edgecolor='black', alpha=0.7)\n",
        "        plt.xlabel(\"Value\")\n",
        "        plt.ylabel(\"Frequency\")\n",
        "        plt.title(f\"Uniform Distribution (a = {params['a']}, b = {params['b']}, samples = {sample_size})\")\n",
        "\n",
        "    elif distribution == \"Exponential\":\n",
        "        samples = np.random.exponential(1 / params[\"lam\"], sample_size)\n",
        "        plt.hist(samples, bins=30, edgecolor='black', alpha=0.7)\n",
        "        plt.xlabel(\"Value\")\n",
        "        plt.ylabel(\"Frequency\")\n",
        "        plt.title(f\"Exponential Distribution (λ = {params['lam']}, samples = {sample_size})\")\n",
        "\n",
        "    elif distribution == \"Gamma\":\n",
        "        samples = np.random.gamma(params[\"alpha\"], 1 / params[\"beta\"], sample_size)\n",
        "        plt.hist(samples, bins=30, edgecolor='black', alpha=0.7)\n",
        "        plt.xlabel(\"Value\")\n",
        "        plt.ylabel(\"Frequency\")\n",
        "        plt.title(f\"Gamma Distribution (α = {params['alpha']}, β = {params['beta']}, samples = {sample_size})\")\n",
        "\n",
        "    elif distribution == \"Normal\":\n",
        "        samples = np.random.normal(params[\"mu\"], params[\"sigma\"], sample_size)\n",
        "        plt.hist(samples, bins=30, edgecolor='black', alpha=0.7)\n",
        "        plt.xlabel(\"Value\")\n",
        "        plt.ylabel(\"Frequency\")\n",
        "        plt.title(f\"Normal Distribution (μ = {params['mu']}, σ = {params['sigma']}, samples = {sample_size})\")\n",
        "\n",
        "    else:\n",
        "        raise ValueError(\"Invalid distribution selected.\")\n",
        "\n",
        "    # Show the plot\n",
        "    plt.show()\n",
        "\n",
        "# Main program\n",
        "if __name__ == \"__main__\":\n",
        "    # List of available distributions\n",
        "    distributions = [\n",
        "        \"Bernoulli\", \"Binomial\", \"Poisson\", \"Geometric\",\n",
        "        \"Uniform\", \"Exponential\", \"Gamma\", \"Normal\"\n",
        "    ]\n",
        "\n",
        "    # Ask the user to select a distribution\n",
        "    print(\"Available distributions:\")\n",
        "    for i, dist in enumerate(distributions, 1):\n",
        "        print(f\"{i}. {dist}\")\n",
        "    choice = int(input(\"Select a distribution (enter the corresponding number): \")) - 1\n",
        "\n",
        "    if choice < 0 or choice >= len(distributions):\n",
        "        raise ValueError(\"Invalid selection.\")\n",
        "\n",
        "    selected_distribution = distributions[choice]\n",
        "\n",
        "    # Ask for parameters based on the selected distribution\n",
        "    params = {}\n",
        "    if selected_distribution == \"Bernoulli\":\n",
        "        params[\"p\"] = float(input(\"Enter the probability of success (p): \"))\n",
        "        if not 0 <= params[\"p\"] <= 1:\n",
        "            raise ValueError(\"p must be between 0 and 1.\")\n",
        "\n",
        "    elif selected_distribution == \"Binomial\":\n",
        "        params[\"n\"] = int(input(\"Enter the number of trials (n): \"))\n",
        "        params[\"p\"] = float(input(\"Enter the probability of success (p): \"))\n",
        "        if not 0 <= params[\"p\"] <= 1:\n",
        "            raise ValueError(\"p must be between 0 and 1.\")\n",
        "\n",
        "    elif selected_distribution == \"Poisson\":\n",
        "        params[\"lam\"] = float(input(\"Enter the rate parameter (λ): \"))\n",
        "        if params[\"lam\"] <= 0:\n",
        "            raise ValueError(\"λ must be greater than 0.\")\n",
        "\n",
        "    elif selected_distribution == \"Geometric\":\n",
        "        params[\"p\"] = float(input(\"Enter the probability of success (p): \"))\n",
        "        if not 0 <= params[\"p\"] <= 1:\n",
        "            raise ValueError(\"p must be between 0 and 1.\")\n",
        "\n",
        "    elif selected_distribution == \"Uniform\":\n",
        "        params[\"a\"] = float(input(\"Enter the lower bound (a): \"))\n",
        "        params[\"b\"] = float(input(\"Enter the upper bound (b): \"))\n",
        "        if params[\"a\"] >= params[\"b\"]:\n",
        "            raise ValueError(\"a must be less than b.\")\n",
        "\n",
        "    elif selected_distribution == \"Exponential\":\n",
        "        params[\"lam\"] = float(input(\"Enter the rate parameter (λ): \"))\n",
        "        if params[\"lam\"] <= 0:\n",
        "            raise ValueError(\"λ must be greater than 0.\")\n",
        "\n",
        "    elif selected_distribution == \"Gamma\":\n",
        "        params[\"alpha\"] = float(input(\"Enter the shape parameter (α): \"))\n",
        "        params[\"beta\"] = float(input(\"Enter the rate parameter (β): \"))\n",
        "        if params[\"alpha\"] <= 0 or params[\"beta\"] <= 0:\n",
        "            raise ValueError(\"α and β must be greater than 0.\")\n",
        "\n",
        "    elif selected_distribution == \"Normal\":\n",
        "        params[\"mu\"] = float(input(\"Enter the mean (μ): \"))\n",
        "        params[\"sigma\"] = float(input(\"Enter the standard deviation (σ): \"))\n",
        "        if params[\"sigma\"] <= 0:\n",
        "            raise ValueError(\"σ must be greater than 0.\")\n",
        "\n",
        "    # Ask for sample size\n",
        "    sample_size = int(input(\"Enter the sample size: \"))\n",
        "\n",
        "    # Visualize the distribution\n",
        "    visualize_distribution(selected_distribution, params, sample_size)"
      ],
      "metadata": {
        "colab": {
          "base_uri": "https://localhost:8080/",
          "height": 680
        },
        "id": "1jeSEGuy0RKR",
        "outputId": "bd08f486-3fe8-402a-b1b3-d5ecedcbd5e0"
      },
      "execution_count": 77,
      "outputs": [
        {
          "name": "stdout",
          "output_type": "stream",
          "text": [
            "Available distributions:\n",
            "1. Bernoulli\n",
            "2. Binomial\n",
            "3. Poisson\n",
            "4. Geometric\n",
            "5. Uniform\n",
            "6. Exponential\n",
            "7. Gamma\n",
            "8. Normal\n",
            "Select a distribution (enter the corresponding number): 3\n",
            "Enter the rate parameter (λ): 4\n",
            "Enter the sample size: 100\n"
          ]
        },
        {
          "output_type": "display_data",
          "data": {
            "text/plain": [
              "<Figure size 640x480 with 1 Axes>"
            ],
            "image/png": "[encoded data removed]"
          },
          "metadata": {}
        }
      ]
    }
  ]
}